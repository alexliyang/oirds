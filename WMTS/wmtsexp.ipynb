{
 "cells": [
  {
   "cell_type": "code",
   "execution_count": 127,
   "metadata": {
    "collapsed": false
   },
   "outputs": [
    {
     "name": "stdout",
     "output_type": "stream",
     "text": [
      "<html><head><title>Apache Tomcat/7.0.53 - Error report</title><style><!--H1 {font-family:Tahoma,Arial,sans-serif;color:white;background-color:#525D76;font-size:22px;} H2 {font-family:Tahoma,Arial,sans-serif;color:white;background-color:#525D76;font-size:16px;} H3 {font-family:Tahoma,Arial,sans-serif;color:white;background-color:#525D76;font-size:14px;} BODY {font-family:Tahoma,Arial,sans-serif;color:black;background-color:white;} B {font-family:Tahoma,Arial,sans-serif;color:white;background-color:#525D76;} P {font-family:Tahoma,Arial,sans-serif;background:white;color:black;font-size:12px;}A {color : black;}A.name {color : black;}HR {color : #525D76;}--></style> </head><body><h1>HTTP Status 401 - </h1><HR size=\"1\" noshade=\"noshade\"><p><b>type</b> Status report</p><p><b>message</b> <u></u></p><p><b>description</b> <u>This request requires HTTP authentication.</u></p><HR size=\"1\" noshade=\"noshade\"><h3>Apache Tomcat/7.0.53</h3></body></html>\n"
     ]
    }
   ],
   "source": [
    "from requests.auth import HTTPBasicAuth\n",
    "import requests\n",
    "resp = requests.get('https://services.digitalglobe.com/earthservice/wmtsaccess?SERVICE=WMTS&VERSION=1.0.0&STYLE=&REQUEST=GetTile&CONNECTID=c19b1c96-cd25-453a-96ef-4cd223c6d2c0&LAYER=DigitalGlobe:ImageryTileService&FORMAT=image/jpeg&TileRow=18200&TileCol=27207&TileMatrixSet=EPSG:4326&TileMatrix=EPSG:4326:16&featureProfile=Consumer_Profile', auth=HTTPBasicAuth('roberteb', 'kl;JKL:7890&*()'))\n",
    "data1 = resp.text\n",
    "print data1"
   ]
  },
  {
   "cell_type": "code",
   "execution_count": 118,
   "metadata": {
    "collapsed": false
   },
   "outputs": [
    {
     "name": "stdout",
     "output_type": "stream",
     "text": [
      "cm9iZXJ0ZWI6a2w7SktMOjc4OTAmKigp\n",
      "403 Forbidden\n",
      "<html><head><title>Apache Tomcat/7.0.53 - Error report</title><style><!--H1 {font-family:Tahoma,Arial,sans-serif;color:white;background-color:#525D76;font-size:22px;} H2 {font-family:Tahoma,Arial,sans-serif;color:white;background-color:#525D76;font-size:16px;} H3 {font-family:Tahoma,Arial,sans-serif;color:white;background-color:#525D76;font-size:14px;} BODY {font-family:Tahoma,Arial,sans-serif;color:black;background-color:white;} B {font-family:Tahoma,Arial,sans-serif;color:white;background-color:#525D76;} P {font-family:Tahoma,Arial,sans-serif;background:white;color:black;font-size:12px;}A {color : black;}A.name {color : black;}HR {color : #525D76;}--></style> </head><body><h1>HTTP Status 403 - Login failed - invalid connect id: Credentials[username=null, connectId=c19b1c96-cd25-453a-96ef-4cd223c6d2c0]</h1><HR size=\"1\" noshade=\"noshade\"><p><b>type</b> Status report</p><p><b>message</b> <u>Login failed - invalid connect id: Credentials[username=null, connectId=c19b1c96-cd25-453a-96ef-4cd223c6d2c0]</u></p><p><b>description</b> <u>Access to the specified resource has been forbidden.</u></p><HR size=\"1\" noshade=\"noshade\"><h3>Apache Tomcat/7.0.53</h3></body></html>\n"
     ]
    }
   ],
   "source": [
    "import httplib\n",
    "import urllib\n",
    "import base64 \n",
    "\n",
    "conn = httplib.HTTPSConnection(\"services.digitalglobe.com\")\n",
    "userAndPass = base64.encodestring('%s:%s' % (\"roberteb\", \"kl;JKL:7890&*()\")).replace('\\n', '')\n",
    " \n",
    "print userAndPass\n",
    "headers = { 'Authorization' : 'Basic %s' %  userAndPass }\n",
    "params = urllib.urlencode({'USERNAME': 'roberteb', 'PASSWORD': 'jkl;JKL:7890&*()'})\n",
    "conn.request(\"POST\", \"/earthservice/wmtsaccess?SERVICE=WMTS&VERSION=1.0.0&STYLE=&REQUEST=GetTile&CONNECTID=c19b1c96-cd25-453a-96ef-4cd223c6d2c0&LAYER=DigitalGlobe:ImageryTileService&FORMAT=image/jpeg&TileRow=18200&TileCol=27207&TileMatrixSet=EPSG:4326&TileMatrix=EPSG:4326:16&featureProfile=Consumer_Profile\",params)\n",
    "r1 = conn.getresponse()\n",
    "print r1.status, r1.reason\n",
    "data1 = r1.read()\n",
    "print data1"
   ]
  },
  {
   "cell_type": "code",
   "execution_count": 3,
   "metadata": {
    "collapsed": false
   },
   "outputs": [
    {
     "name": "stdout",
     "output_type": "stream",
     "text": [
      "52864 68236\n"
     ]
    },
    {
     "data": {
      "image/png": "[encoded data removed]",
      "text/plain": [
       "<PIL.JpegImagePlugin.JpegImageFile image mode=RGB size=256x256 at 0x10D050410>"
      ]
     },
     "metadata": {},
     "output_type": "display_data"
    }
   ],
   "source": [
    "from owslib.wms import WebMapService\n",
    "from PIL import Image\n",
    "import io\n",
    "import binascii\n",
    "import pylab\n",
    "import numpy as np\n",
    "from PIL import ImageDraw\n",
    "from IPython.display import display\n",
    "import math\n",
    "\n",
    "from owslib.wmts import WebMapTileService\n",
    "\n",
    "#https://evwhs.digitalglobe.com/earthservice/wmtsaccess?connectid=c19b1c96-cd25-453a-96ef-4cd223c6d2c0\n",
    "wmts = WebMapTileService(\"http://evwhs.digitalglobe.com/earthservice/wmtsaccess?connectid=c19b1c96-cd25-453a-96ef-4cd223c6d2c0\", username='roberteb', password='jkl;JKL:7890&*()')\n",
    "\n",
    "#print wmts.contents\n",
    "zoom=17\n",
    "lat_deg = -7.39683\n",
    "lon_deg= -34.80467\n",
    "lat_rad = math.radians(lat_deg)\n",
    "n = 2.0 ** zoom\n",
    "xtile = int((lon_deg + 180.0) / 360.0 * n)\n",
    "ytile = int((1.0 - math.log(math.tan(lat_rad) + (1 / math.cos(lat_rad))) / math.pi) / 2.0 * n)\n",
    "print xtile, ytile\n",
    "\n",
    "#https://services.digitalglobe.com/earthservice/wmtsaccess?SERVICE=WMTS&VERSION=1.0.0&STYLE=&REQUEST=GetTile&CONNECTID=c19b1c96-cd25-453a-96ef-4cd223c6d2c0&username=roberteb&password=jkl%3BJKL%3A7890%26%2A%28%297890%26%2A%28%29&LAYER=DigitalGlobe:ImageryTileService&FORMAT=image/jpeg&TileRow=18200&TileCol=27207&TileMatrixSet=EPSG:4326&TileMatrix=EPSG:4326:16&featureProfile=Consumer_Profile\n",
    "\n",
    "#xtile=3000\n",
    "#ytile=3000\n",
    "#zoom=16\n",
    "#n = 2 ^ zoom\n",
    "#lon_deg = xtile / n * 360.0 - 180.0\n",
    "#lat_rad = arctan(sinh(π * (1 - 2 * ytile / n)))\n",
    "#lat_deg = lat_rad * 180.0 / π\n",
    "tile = wmts.gettile(layer='DigitalGlobe:ImageryTileService',tilematrixset='EPSG:4326', tilematrix='EPSG:4326:'+str(zoom), row=ytile, column=xtile, format=\"image/jpeg\")\n",
    "#GeoTIFF\")\n",
    "#print tile\n",
    "#print tile.read()\n",
    "#f = open(\"test.jpeg\",\"wb\")\n",
    "#f.write(tile.read())\n",
    "#f.close()\n",
    "stream = io.BytesIO(tile.read())\n",
    "img = Image.open(stream)\n",
    "#print np.histogram(np.asarray(img))\n",
    "display(img)\n"
   ]
  },
  {
   "cell_type": "code",
   "execution_count": 123,
   "metadata": {
    "collapsed": false
   },
   "outputs": [
    {
     "name": "stdout",
     "output_type": "stream",
     "text": [
      "OrderedDict([('DigitalGlobe:CrisisEvent', <owslib.wms.ContentMetadata instance at 0x10a17c680>), ('DigitalGlobe:CrisisEventFootprint', <owslib.wms.ContentMetadata instance at 0x10a17b680>), ('DigitalGlobe:FoundationGEOINT', <owslib.wms.ContentMetadata instance at 0x10a15fbd8>), ('DigitalGlobe:FoundationGEOINTMetadata', <owslib.wms.ContentMetadata instance at 0x10a15fef0>), ('DigitalGlobe:ImageInMosaicFootprint', <owslib.wms.ContentMetadata instance at 0x10a15f290>), ('DigitalGlobe:ImageStrip', <owslib.wms.ContentMetadata instance at 0x10a15fa28>), ('DigitalGlobe:ImageStripMetadata', <owslib.wms.ContentMetadata instance at 0x10a15f9e0>), ('DigitalGlobe:Imagery', <owslib.wms.ContentMetadata instance at 0x105732dd0>), ('DigitalGlobe:ImageryFootprint', <owslib.wms.ContentMetadata instance at 0x1057321b8>), ('DigitalGlobe:NGAOtherProducts', <owslib.wms.ContentMetadata instance at 0x105732878>), ('DigitalGlobe:NGAOtherProductsMetadata', <owslib.wms.ContentMetadata instance at 0x1057329e0>)])\n"
     ]
    },
    {
     "data": {
      "text/plain": [
       "{'raster': {'legend': 'https://evwhs.digitalglobe.com/mapservice/wmsaccess?request=GetLegendGraphic&format=image%2Fpng&width=20&height=20&layer=DigitalGlobe%3AImagery&connectid=c19b1c96-cd25-453a-96ef-4cd223c6d2c0',\n",
       "  'title': 'Raster'}}"
      ]
     },
     "execution_count": 123,
     "metadata": {},
     "output_type": "execute_result"
    }
   ],
   "source": [
    "wms = WebMapService('http://evwhs.digitalglobe.com/mapservice/wmsaccess?connectid=c19b1c96-cd25-453a-96ef-4cd223c6d2c0', username='roberteb', password='jkl;JKL:7890&*()')\n",
    "\n",
    "print wms.contents\n",
    "\n",
    "wms['DigitalGlobe:Imagery'].styles\n",
    "\n",
    "#https://services.digitalglobe.com/mapservice/wmsaccess?connectid=c19b1c96-cd25-453a-96ef-4cd223c6d2c0&username=roberteb&password=jkl%3BJKL%3A7890%26*%28%297890%26*%28%29&SERVICE=WMS&REQUEST=GetFeatureInfo&version=1.1.1&SRS=EPSG:4326&BBOX=-73.8854994266476,40.6341176876158,-73.8606463081034,40.6501752378911&WIDTH=1102&HEIGHT=712&QUERY_LAYERS=DigitalGlobe:ImageryFootprint&X=200&Y=150&LAYERS=DigitalGlobe:ImageryFootprint"
   ]
  },
  {
   "cell_type": "code",
   "execution_count": 124,
   "metadata": {
    "collapsed": false
   },
   "outputs": [
    {
     "data": {
      "image/png": "[encoded data removed]",
      "text/plain": [
       "<PIL.JpegImagePlugin.JpegImageFile image mode=RGB size=1102x712 at 0x10A1873D0>"
      ]
     },
     "metadata": {},
     "output_type": "display_data"
    }
   ],
   "source": [
    "imgs = wms.getmap(   layers=['DigitalGlobe:Imagery'],\n",
    "                     styles=['raster'],\n",
    "                     srs='EPSG:4326',\n",
    "                     bbox=(-7.39683, -34.80467, -7.39603, -34.80387),\n",
    "                     format='image/jpeg',\n",
    "                     size=(1102, 712))\n",
    "                  #,\n",
    "                  #   transparent=True\n",
    "                   #  )\n",
    "            # ,\n",
    "\n",
    "\n",
    "\n",
    "#print imgs.read()\n",
    "stream = io.BytesIO(imgs.read())\n",
    "img = Image.open(stream)\n",
    "display(img)\n"
   ]
  },
  {
   "cell_type": "code",
   "execution_count": 1,
   "metadata": {
    "collapsed": false
   },
   "outputs": [
    {
     "name": "stdout",
     "output_type": "stream",
     "text": [
      "47785 76367\n",
      "(-114.37728881835938, 14.874114990234375, -114.37591552734375, 14.87548828125)\n",
      "97.0562850171\n"
     ]
    }
   ],
   "source": [
    "import math\n",
    "\n",
    "\n",
    "zoom=17\n",
    "lat_deg= -28.496109\n",
    "lon_deg= -48.752528\n",
    "lat_rad = math.radians(lat_deg)\n",
    "n = 2.0 ** zoom\n",
    "\n",
    "xtile = int((lon_deg + 180.0) / 360.0 * n)\n",
    "ytile = int((1.0 - math.log(math.tan(lat_rad) + (1 / math.cos(lat_rad))) / math.pi) / 2.0 * n)\n",
    "print xtile, ytile\n",
    "resLat = 180 / n\n",
    "resLon = 180 / n\n",
    "print (xtile*resLon - 180,\n",
    "            ytile*resLat - 90,\n",
    "            (xtile+1)*resLon - 180,\n",
    "            (ytile+1)*resLat - 90)\n",
    "print 256* 56543.03392 * math.cos(lat_deg * math.pi / 180.0) / n\n",
    "\n",
    "#print (lat_deg/170)*n,(lon_deg/360)*n\n",
    "\n",
    "\n"
   ]
  },
  {
   "cell_type": "code",
   "execution_count": 49,
   "metadata": {
    "collapsed": false
   },
   "outputs": [
    {
     "name": "stdout",
     "output_type": "stream",
     "text": [
      "4658720.6897 -6232974.41865\n",
      "37269765.5176 -49863795.3492\n",
      "525.368888889 761.399412376\n",
      "41.85 -48.752528\n",
      "c -5427106.59109 5138536.58653\n",
      "41.85 -48.752528\n"
     ]
    }
   ],
   "source": [
    "from pyproj import Proj, transform\n",
    "\n",
    "#inProj = Proj(init='epsg:3857')\n",
    "#outProj = Proj(init='epsg:4326')\n",
    "#x1,y1 = -11705274.6374,4826473.6922\n",
    "#x2,y2 = transform(inProj,outProj,x1,y1)\n",
    "#print x2,y2\n",
    "\n",
    "inProj = Proj(init='epsg:4326')\n",
    "outProj = Proj(init='epsg:3857')\n",
    "    #proj='merc', ellps='sphere')\n",
    "\n",
    "lat_deg=41.85\n",
    "lon_deg-87.64999999999998\n",
    "x2,y2 = transform(inProj,outProj,lat_deg,lon_deg)\n",
    "n = 2.0 ** 3\n",
    "print x2,y2\n",
    "print (x2*n), (y2*n)\n",
    "print (65.67111111111113*n), (95.17492654697409*n)\n",
    "x3,y3 = transform(outProj,inProj,x2,y2)\n",
    "print x3,y3\n",
    "\n",
    "x4 = lon_deg * 20037508.34 / 180.0;\n",
    "y4 = math.log(math.tan((90.0 + lat_deg) * math.pi / 360.0)) / (math.pi / 180.0);\n",
    "y4 = y4 * 20037508.34 / 180.0;\n",
    "print 'c',x4, y4;\n",
    "\n",
    "lon = (x4 / 20037508.34) * 180;\n",
    "lat = (y4 / 20037508.34) * 180;\n",
    "lat = 180/math.pi * (2 * math.atan(math.exp(lat * math.pi / 180.0)) - math.pi / 2.0);\n",
    "print lat,lon;"
   ]
  },
  {
   "cell_type": "code",
   "execution_count": null,
   "metadata": {
    "collapsed": true
   },
   "outputs": [],
   "source": []
  },
  {
   "cell_type": "code",
   "execution_count": null,
   "metadata": {
    "collapsed": true
   },
   "outputs": [],
   "source": []
  },
  {
   "cell_type": "code",
   "execution_count": null,
   "metadata": {
    "collapsed": true
   },
   "outputs": [],
   "source": []
  }
 ],
 "metadata": {
  "kernelspec": {
   "display_name": "Python 2",
   "language": "python",
   "name": "python2"
  },
  "language_info": {
   "codemirror_mode": {
    "name": "ipython",
    "version": 2
   },
   "file_extension": ".py",
   "mimetype": "text/x-python",
   "name": "python",
   "nbconvert_exporter": "python",
   "pygments_lexer": "ipython2",
   "version": "2.7.11"
  }
 },
 "nbformat": 4,
 "nbformat_minor": 0
}
